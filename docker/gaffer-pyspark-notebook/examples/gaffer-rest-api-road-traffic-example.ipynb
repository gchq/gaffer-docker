{
 "cells": [
  {
   "attachments": {},
   "cell_type": "markdown",
   "metadata": {},
   "source": [
    "### Configuration\n",
    "If the following variable is left blank then we will attempt to discover the correct URL from the notebook's environment"
   ]
  },
  {
   "cell_type": "code",
   "execution_count": null,
   "metadata": {},
   "outputs": [],
   "source": [
    "GAFFER_REST_API_URL = ''"
   ]
  },
  {
   "attachments": {},
   "cell_type": "markdown",
   "metadata": {},
   "source": [
    "### Imports"
   ]
  },
  {
   "cell_type": "code",
   "execution_count": null,
   "metadata": {},
   "outputs": [],
   "source": [
    "import io\n",
    "import json\n",
    "import pandas as pd\n",
    "import os\n",
    "\n",
    "!pip install plotly\n",
    "import plotly.graph_objects as go\n",
    "\n",
    "import gafferpy\n",
    "from gafferpy import gaffer\n",
    "from gafferpy import gaffer_connector\n",
    "\n",
    "pd.set_option('display.max_rows', None)"
   ]
  },
  {
   "attachments": {},
   "cell_type": "markdown",
   "metadata": {},
   "source": [
    "### Set up connection to Gaffer REST API"
   ]
  },
  {
   "cell_type": "code",
   "execution_count": null,
   "metadata": {},
   "outputs": [],
   "source": [
    "# Try to auto-detect REST API URL from environment\n",
    "if not GAFFER_REST_API_URL:\n",
    "    try:\n",
    "        GAFFER_REST_API_URL = os.environ['GAFFER_REST_API_URL']\n",
    "    except KeyError:\n",
    "        pass\n",
    "\n",
    "if not GAFFER_REST_API_URL:\n",
    "    raise Exception('Please set GAFFER_REST_API_URL')\n",
    "print('Using Gaffer REST API URL: {}'.format(GAFFER_REST_API_URL))\n",
    "\n",
    "gc = gaffer_connector.GafferConnector(GAFFER_REST_API_URL)"
   ]
  },
  {
   "attachments": {},
   "cell_type": "markdown",
   "metadata": {},
   "source": [
    "### Get Graph Schema (from local file)"
   ]
  },
  {
   "cell_type": "code",
   "execution_count": null,
   "metadata": {},
   "outputs": [],
   "source": [
    "import json\n",
    "import glob\n",
    "schema_from_file = {}\n",
    "for schema_file in glob.glob('/etc/gaffer/schema/*.json'):\n",
    "    with open(schema_file, 'r') as f:\n",
    "        partial_schema = json.load(f)\n",
    "        schema_from_file = {**schema_from_file, **partial_schema}\n",
    "print(json.dumps(schema_from_file, indent=2))"
   ]
  },
  {
   "attachments": {},
   "cell_type": "markdown",
   "metadata": {},
   "source": [
    "### Get Graph Schema (from remote REST API)"
   ]
  },
  {
   "cell_type": "code",
   "execution_count": null,
   "metadata": {},
   "outputs": [],
   "source": [
    "schema_response = gc.execute_get(gaffer.GetSchema())\n",
    "schema = json.loads(schema_response)\n",
    "print(json.dumps(schema, indent=2))\n",
    "\n",
    "assert schema == schema_from_file, \"Local schema does not match remote schema!\""
   ]
  },
  {
   "attachments": {},
   "cell_type": "markdown",
   "metadata": {},
   "source": [
    "### Verify that the graph looks to contain GB Road Traffic Counts dataset"
   ]
  },
  {
   "cell_type": "code",
   "execution_count": null,
   "metadata": {},
   "outputs": [],
   "source": [
    "required_edge_types = ['RoadUse', 'RoadHasJunction', 'RegionContainsLocation', 'LocationContainsRoad', 'JunctionLocatedAt']\n",
    "required_entity_types = ['Cardinality', 'JunctionUse']\n",
    "\n",
    "for edge_type in required_edge_types:\n",
    "    if edge_type not in schema['edges']:\n",
    "        raise Exception('The graph schema does not contain an edge type called {}. Please ensure you are running this example notebook against a graph containing the GB Road Traffic Counts dataset.'.format(edge_type))\n",
    "\n",
    "for entity_type in required_entity_types:\n",
    "    if entity_type not in schema['entities']:\n",
    "        raise Exception('The graph schema does not contain an entity type called {}. Please ensure you are running this example notebook against a graph containing the GB Road Traffic Counts dataset.'.format(entity_type))"
   ]
  },
  {
   "attachments": {},
   "cell_type": "markdown",
   "metadata": {},
   "source": [
    "### Get number of elements in graph"
   ]
  },
  {
   "cell_type": "code",
   "execution_count": null,
   "metadata": {},
   "outputs": [],
   "source": [
    "gc.execute_operations(\n",
    "    operations=[\n",
    "        gaffer.GetAllElements(),\n",
    "        gaffer.Count()\n",
    "    ]\n",
    ")"
   ]
  },
  {
   "cell_type": "code",
   "execution_count": null,
   "metadata": {},
   "outputs": [],
   "source": [
    "edge_groups = gc.execute_operations(\n",
    "    operations=[\n",
    "        gaffer.GetAllElements(),\n",
    "        gaffer.CountGroups()\n",
    "    ]\n",
    ")['edgeGroups']\n",
    "edge_groups"
   ]
  },
  {
   "attachments": {},
   "cell_type": "markdown",
   "metadata": {},
   "source": [
    "### Find all junctions in the South West"
   ]
  },
  {
   "cell_type": "code",
   "execution_count": null,
   "metadata": {},
   "outputs": [],
   "source": [
    "all_south_west_junctions = gaffer.JsonConverter.from_json(\n",
    "    gc.execute_operation_chain(\n",
    "        gaffer.OperationChain(\n",
    "            operations=[\n",
    "                gaffer.GetAdjacentIds(\n",
    "                    input=[gaffer.EntitySeed(vertex=\"South West\")],\n",
    "                    view=gaffer.View(\n",
    "                        edges=[\n",
    "                            gaffer.ElementDefinition(\n",
    "                                group=\"RegionContainsLocation\"\n",
    "                            )\n",
    "                        ]\n",
    "                    )\n",
    "                ),\n",
    "                gaffer.GetAdjacentIds(\n",
    "                    view=gaffer.View(\n",
    "                        edges=[\n",
    "                            gaffer.ElementDefinition(\n",
    "                                group=\"LocationContainsRoad\"\n",
    "                            )\n",
    "                        ]\n",
    "                    )\n",
    "                ),\n",
    "                gaffer.ToSet(),\n",
    "                gaffer.GetAdjacentIds(\n",
    "                    view=gaffer.View(\n",
    "                        edges=[\n",
    "                            gaffer.ElementDefinition(\n",
    "                                group=\"RoadHasJunction\"\n",
    "                            )\n",
    "                        ]\n",
    "                    )\n",
    "                )\n",
    "            ]\n",
    "        )\n",
    "    )\n",
    ")\n",
    "\n",
    "all_south_west_junctions_dataframe = pd.DataFrame([entity_seed.vertex for entity_seed in all_south_west_junctions], columns=[\"junction\"])\n",
    "all_south_west_junctions_dataframe.sort_values(by='junction')"
   ]
  },
  {
   "attachments": {},
   "cell_type": "markdown",
   "metadata": {},
   "source": [
    "### Find busiest junctions in the South West in 2000"
   ]
  },
  {
   "cell_type": "code",
   "execution_count": null,
   "metadata": {},
   "outputs": [],
   "source": [
    "busiest_south_west_junctions_in_2000 = gaffer.JsonConverter.from_json(\n",
    "    gc.execute_operation_chain(\n",
    "        gaffer.OperationChain(\n",
    "            operations=[\n",
    "                gaffer.GetElements(\n",
    "                    input=all_south_west_junctions,\n",
    "                    view=gaffer.View(\n",
    "                        global_elements=[\n",
    "                            gaffer.GlobalElementDefinition(\n",
    "                                group_by=[]\n",
    "                            )\n",
    "                        ],\n",
    "                        entities=[\n",
    "                            gaffer.ElementDefinition(\n",
    "                                group=\"JunctionUse\",\n",
    "                                pre_aggregation_filter_functions=[\n",
    "                                    gaffer.PredicateContext(\n",
    "                                        predicate=gaffer.InDateRangeDual(\n",
    "                                            start=\"2000/01/01\",\n",
    "                                            end=\"2001/01/01\"\n",
    "                                        ),\n",
    "                                        selection=[\n",
    "                                            \"startDate\",\n",
    "                                            \"endDate\"\n",
    "                                        ]\n",
    "                                    )\n",
    "                                ]\n",
    "                            )\n",
    "                        ]\n",
    "                    )\n",
    "                ),\n",
    "                gaffer.Sort(\n",
    "                    comparators=[\n",
    "                        gaffer.ElementPropertyComparator(\n",
    "                            groups=[\"JunctionUse\"],\n",
    "                            property=\"count\",\n",
    "                            reversed=True\n",
    "                        )\n",
    "                    ],\n",
    "                )\n",
    "            ]\n",
    "        )\n",
    "    )\n",
    ")\n",
    "\n",
    "pd.DataFrame([[junction.vertex, junction.properties['count']['java.lang.Long']] for junction in busiest_south_west_junctions_in_2000], columns=[\"junction\", \"count\"])"
   ]
  },
  {
   "attachments": {},
   "cell_type": "markdown",
   "metadata": {},
   "source": [
    "### Graph Car Counts for a Junction"
   ]
  },
  {
   "cell_type": "code",
   "execution_count": null,
   "metadata": {},
   "outputs": [],
   "source": [
    "junction = 'M4:19'\n",
    "\n",
    "response = gc.execute_operation_chain(\n",
    "    gaffer.OperationChain(\n",
    "        operations=[\n",
    "            gaffer.GetElements(\n",
    "                input=[gaffer.EntitySeed(junction)],\n",
    "                view=gaffer.View(\n",
    "                    entities=[\n",
    "                        gaffer.ElementDefinition(\n",
    "                            group=\"JunctionUse\",\n",
    "                            pre_aggregation_filter_functions=[\n",
    "                                gaffer.PredicateContext(\n",
    "                                    predicate=gaffer.InDateRangeDual(\n",
    "                                        start=\"2000/01/01\",\n",
    "                                        end=\"2001/01/01\"\n",
    "                                    ),\n",
    "                                    selection=[\n",
    "                                        \"startDate\",\n",
    "                                        \"endDate\"\n",
    "                                    ]\n",
    "                                )\n",
    "                            ],\n",
    "                            transient_properties={'CAR': 'Long'},\n",
    "                            transform_functions=[\n",
    "                                gaffer.FunctionContext(\n",
    "                                    selection=[\"countByVehicleType\"],\n",
    "                                    function=gaffer.FreqMapExtractor(key=\"CAR\"),\n",
    "                                    projection=[\"CAR\"]\n",
    "                                )\n",
    "                            ],\n",
    "                            properties=[\"startDate\", \"endDate\", \"CAR\"],\n",
    "                        )\n",
    "                    ]\n",
    "                )\n",
    "            ),\n",
    "            gaffer.ToCsv(\n",
    "                include_header=True,\n",
    "                csv_generator=gaffer.CsvGenerator(\n",
    "                    quoted=False,\n",
    "                    comma_replacement=\" \",\n",
    "                    fields={'VERTEX': 'Junction', 'startDate': 'StartDate', 'CAR': 'CarCount'}\n",
    "                )\n",
    "            )\n",
    "        ]\n",
    "    )\n",
    ")\n",
    "\n",
    "df = pd.read_csv(io.StringIO(\"\\n\".join(response)))\n",
    "fig = go.Figure(layout=go.Layout(title=go.layout.Title(text='{} Car Counts'.format(junction))), data=go.Bar(x=df['StartDate'], y=df['CarCount']))\n",
    "fig.show()"
   ]
  },
  {
   "cell_type": "code",
   "execution_count": null,
   "metadata": {},
   "outputs": [],
   "source": []
  }
 ],
 "metadata": {
  "kernelspec": {
   "display_name": "Python 3",
   "language": "python",
   "name": "python3"
  },
  "language_info": {
   "codemirror_mode": {
    "name": "ipython",
    "version": 3
   },
   "file_extension": ".py",
   "mimetype": "text/x-python",
   "name": "python",
   "nbconvert_exporter": "python",
   "pygments_lexer": "ipython3",
   "version": "3.8.10"
  }
 },
 "nbformat": 4,
 "nbformat_minor": 4
}
