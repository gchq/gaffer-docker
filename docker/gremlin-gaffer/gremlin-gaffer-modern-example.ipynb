{
 "cells": [
  {
   "attachments": {},
   "cell_type": "markdown",
   "metadata": {},
   "source": [
    "# Gremlin Gaffer modern example"
   ]
  },
  {
   "cell_type": "code",
   "execution_count": 4,
   "metadata": {},
   "outputs": [],
   "source": [
    "# Common imports\n",
    "from gremlin_python.process.anonymous_traversal import traversal\n",
    "from gremlin_python.process.graph_traversal import __\n",
    "from gremlin_python.process.strategies import *\n",
    "from gremlin_python.driver.driver_remote_connection import DriverRemoteConnection\n",
    "from gremlin_python.process.traversal import *\n",
    "from gremlin_python.driver.client import Client\n",
    "import nest_asyncio\n",
    "\n",
    "from_ = Direction.OUT\n",
    "to = Direction.IN\n",
    "nest_asyncio.apply()"
   ]
  },
  {
   "cell_type": "code",
   "execution_count": null,
   "metadata": {},
   "outputs": [],
   "source": [
    "# Create gremlin client to run gremlin scripts directly\n",
    "client = Client('ws://localhost:8182/gremlin', 'g')\n",
    "# Import graphml data with script\n",
    "client.submit(\"graph.io(graphml()).readGraph('data/tinkerpop-modern.xml')\")"
   ]
  },
  {
   "cell_type": "code",
   "execution_count": 3,
   "metadata": {},
   "outputs": [],
   "source": [
    "# Setup a connection with the gremlin rest server\n",
    "g = traversal().with_remote(DriverRemoteConnection('ws://localhost:8182/gremlin', 'g'))"
   ]
  },
  {
   "cell_type": "code",
   "execution_count": 4,
   "metadata": {},
   "outputs": [
    {
     "name": "stdout",
     "output_type": "stream",
     "text": [
      "[{'name': ['marko'], 'age': [29]}]\n"
     ]
    }
   ],
   "source": [
    "# Get properties from an Entity\n",
    "print(g.V('1').valueMap().to_list())"
   ]
  },
  {
   "cell_type": "code",
   "execution_count": 15,
   "metadata": {},
   "outputs": [
    {
     "data": {
      "text/plain": [
       "[0.5]"
      ]
     },
     "execution_count": 15,
     "metadata": {},
     "output_type": "execute_result"
    }
   ],
   "source": [
    "# Starting with multiple Entity seeds, filter by those with group \"person\", hop down an \"known\" edges, and print properties less than 1\n",
    "g.V('1', '2').hasLabel('person').outE('knows').values().is_(lt(1)).to_list()"
   ]
  },
  {
   "cell_type": "code",
   "execution_count": 16,
   "metadata": {},
   "outputs": [
    {
     "data": {
      "text/plain": [
       "[path[v[1], v[3]], path[v[1], v[4], v[3]]]"
      ]
     },
     "execution_count": 16,
     "metadata": {},
     "output_type": "execute_result"
    }
   ],
   "source": [
    "# Calculate up to 6 paths between two Entities\n",
    "g.V('1').repeat(__.both().simplePath()).until(__.hasId('3')).limit(6).path().to_list()"
   ]
  }
 ],
 "metadata": {
  "kernelspec": {
   "display_name": "tinkerpop",
   "language": "python",
   "name": "python3"
  },
  "language_info": {
   "codemirror_mode": {
    "name": "ipython",
    "version": 3
   },
   "file_extension": ".py",
   "mimetype": "text/x-python",
   "name": "python",
   "nbconvert_exporter": "python",
   "pygments_lexer": "ipython3",
   "version": "3.7.16"
  },
  "orig_nbformat": 4
 },
 "nbformat": 4,
 "nbformat_minor": 2
}
